{
 "cells": [
  {
   "cell_type": "markdown",
   "metadata": {},
   "source": [
    "https://developer.mozilla.org/en-US/docs/Web/JavaScript/Reference"
   ]
  },
  {
   "cell_type": "markdown",
   "metadata": {},
   "source": [
    "## array.forEach()"
   ]
  },
  {
   "cell_type": "code",
   "execution_count": 3,
   "metadata": {},
   "outputs": [
    {
     "name": "stdout",
     "output_type": "stream",
     "text": [
      "First array: 0,1,2,3,4,5,6,7,8,9\n",
      "2nd array: 0,2,4,6,8,10,12,14,16,18\n"
     ]
    }
   ],
   "source": [
    "var a = Array.from(Array(10).keys());\n",
    "console.log(`First array: ${a}`)\n",
    "var b = []\n",
    "a.forEach(x => b.push(x * 2))\n",
    "console.log(`2nd array: ${b}`)"
   ]
  },
  {
   "cell_type": "markdown",
   "metadata": {},
   "source": [
    "## Other helpers: \n",
    "\n",
    "every, filter, reduce, unshift, map, etc.\n",
    "\n",
    "https://developer.mozilla.org/en-US/docs/Web/JavaScript/Reference/Global_Objects/Array/every"
   ]
  },
  {
   "cell_type": "code",
   "execution_count": null,
   "metadata": {
    "collapsed": true
   },
   "outputs": [],
   "source": []
  }
 ],
 "metadata": {
  "kernelspec": {
   "display_name": "Javascript (Node.js)",
   "language": "javascript",
   "name": "javascript"
  },
  "language_info": {
   "file_extension": ".js",
   "mimetype": "application/javascript",
   "name": "javascript",
   "version": "10.0.0"
  }
 },
 "nbformat": 4,
 "nbformat_minor": 2
}
