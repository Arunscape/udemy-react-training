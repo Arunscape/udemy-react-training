{
 "cells": [
  {
   "cell_type": "markdown",
   "metadata": {},
   "source": [
    "# Setting up a dev environment:\n",
    "\n",
    "## Installing globally, so only need to run this once\n",
    "`sudo npm install create-react-app -g\n",
    "\n",
    "## Then, all you need to do to set up a new app is to run \n",
    "```\n",
    "create-react-app >foldername<\n",
    "cd >foldername<\n",
    "npm start\n",
    "```"
   ]
  },
  {
   "cell_type": "markdown",
   "metadata": {},
   "source": [
    "## Ternary:\n",
    "\n",
    "condition ? do this if true : do this if false"
   ]
  },
  {
   "cell_type": "code",
   "execution_count": null,
   "metadata": {
    "collapsed": true
   },
   "outputs": [],
   "source": []
  }
 ],
 "metadata": {
  "kernelspec": {
   "display_name": "Javascript (Node.js)",
   "language": "javascript",
   "name": "javascript"
  },
  "language_info": {
   "file_extension": ".js",
   "mimetype": "application/javascript",
   "name": "javascript",
   "version": "10.0.0"
  }
 },
 "nbformat": 4,
 "nbformat_minor": 2
}
