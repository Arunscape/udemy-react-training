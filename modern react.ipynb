{
 "cells": [
  {
   "cell_type": "markdown",
   "metadata": {},
   "source": [
    "git clone https://github.com/StephenGrider/ReduxSimpleStarter.git\n",
    "\n",
    "npm install\n",
    "\n",
    "npm start\n",
    "\n",
    "###### open browser\n",
    "\n",
    "localhost:8080\n",
    "\n",
    "###### It should display React simple starter\n",
    "\n"
   ]
  }
 ],
 "metadata": {
  "kernelspec": {
   "display_name": "Javascript (Node.js)",
   "language": "javascript",
   "name": "javascript"
  },
  "language_info": {
   "file_extension": ".js",
   "mimetype": "application/javascript",
   "name": "javascript",
   "version": "10.0.0"
  }
 },
 "nbformat": 4,
 "nbformat_minor": 2
}
